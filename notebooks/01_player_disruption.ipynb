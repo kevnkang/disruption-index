{
 "cells": [
  {
   "cell_type": "markdown",
   "metadata": {},
   "source": [
    "# Player Disruption Metric\n",
    "This notebook calculates a disruption score for players based on StatsBomb event data.\n",
    "- Focus: passes and carries that generate reactive defender movements\n",
    "- Goal: identify players who cause chaos beyond xG or assists\n",
    "\n",
    "Men’s World Cup 2018\n",
    "\n",
    "UEFA Champions League (select seasons)\n",
    "\n",
    "La Liga (2017–2021, select matches)\n",
    "\n",
    "Serie A (2015/16 season, like Carpi vs Verona)\n",
    "\n",
    "Women’s FA Super League\n",
    "\n",
    "Youth/International tournaments (e.g., U20 World Cup, African Cup of Nations)\n",
    "\n"
   ]
  },
  {
   "cell_type": "code",
   "execution_count": 9,
   "id": "bbe54598",
   "metadata": {},
   "outputs": [],
   "source": [
    "import sys\n",
    "import os\n",
    "from pathlib import Path\n",
    "import json\n",
    "import pandas as pd\n",
    "import numpy as np\n",
    "import matplotlib.pyplot as plt\n",
    "\n",
    "script_path = Path(\"../scripts\").resolve()\n",
    "if str(script_path) not in sys.path:\n",
    "    sys.path.append(str(script_path))\n",
    "\n",
    "from load_statsbomb import load_match_events, load_player_minutes_and_positions\n",
    "\n",
    "%matplotlib inline\n"
   ]
  },
  {
   "cell_type": "code",
   "execution_count": 11,
   "id": "afc0a2e8",
   "metadata": {},
   "outputs": [
    {
     "name": "stdout",
     "output_type": "stream",
     "text": [
      "Using 64 World Cup matches.\n"
     ]
    }
   ],
   "source": [
    "world_cup_ids = {\n",
    "    \"7525\", \"7529\", \"7530\", \"7531\", \"7532\", \"7533\", \"7534\", \"7535\", \"7536\", \"7537\",\n",
    "    \"7538\", \"7539\", \"7540\", \"7541\", \"7542\", \"7543\", \"7544\", \"7545\", \"7546\", \"7547\",\n",
    "    \"7548\", \"7549\", \"7550\", \"7551\", \"7552\", \"7553\", \"7554\", \"7555\", \"7556\", \"7557\",\n",
    "    \"7558\", \"7559\", \"7560\", \"7561\", \"7562\", \"7563\", \"7564\", \"7565\", \"7566\", \"7567\",\n",
    "    \"7568\", \"7569\", \"7570\", \"7571\", \"7572\", \"7576\", \"7577\", \"7578\", \"7579\", \"7580\",\n",
    "    \"7581\", \"7582\", \"7583\", \"7584\", \"7585\", \"7586\", \"8649\", \"8650\", \"8651\", \"8652\",\n",
    "    \"8653\", \"8654\", \"8655\", \"8656\", \"8657\", \"8658\"\n",
    "}\n",
    "events_dir = \"../data/statsbomb-open-data/events\"\n",
    "lineups_dir = \"../data/statsbomb-open-data/lineups\"\n",
    "available_event_ids = [\n",
    "    p.stem for p in Path(events_dir).glob(\"*.json\")\n",
    "    if p.stem in world_cup_ids\n",
    "]\n",
    "print(f\"Using {len(available_event_ids)} World Cup matches.\")"
   ]
  },
  {
   "cell_type": "code",
   "execution_count": 12,
   "id": "3e5805a6",
   "metadata": {},
   "outputs": [],
   "source": [
    "minutes_df = load_player_minutes_and_positions(lineups_dir, available_event_ids)"
   ]
  },
  {
   "cell_type": "code",
   "execution_count": 13,
   "id": "5b6f69e0",
   "metadata": {},
   "outputs": [],
   "source": [
    "from collections import defaultdict\n",
    "\n",
    "player_totals = defaultdict(lambda: {\"team\": None, \"total_actions\": 0, \"total_disruption\": 0})\n",
    "\n",
    "for match_id in available_event_ids:\n",
    "    df = load_match_events(events_dir, match_id)\n",
    "    actions = df[df[\"type.name\"].isin([\"Pass\", \"Carry\"])].sort_values(by=\"index\").reset_index(drop=True)\n",
    "\n",
    "    for i, action in actions.iterrows():\n",
    "        try:\n",
    "            action_time = pd.to_timedelta(action[\"timestamp\"])\n",
    "            team = action[\"team.name\"]\n",
    "            player = action[\"player.name\"]\n",
    "        except:\n",
    "            continue\n",
    "\n",
    "        lookahead = df.iloc[i+1:i+21]\n",
    "        pressure_count = sum(\n",
    "            1 for _, e in lookahead.iterrows()\n",
    "            if e[\"type.name\"] == \"Pressure\"\n",
    "            and pd.to_timedelta(e[\"timestamp\"]) - action_time <= pd.to_timedelta(\"00:00:02\")\n",
    "            and e[\"team.name\"] != team\n",
    "        )\n",
    "        player_totals[player][\"team\"] = team\n",
    "        player_totals[player][\"total_actions\"] += 1\n",
    "        player_totals[player][\"total_disruption\"] += pressure_count\n",
    "\n",
    "player_scores = pd.DataFrame([\n",
    "    {\n",
    "        \"player\": p,\n",
    "        \"team\": data[\"team\"],\n",
    "        \"total_actions\": data[\"total_actions\"],\n",
    "        \"total_disruption\": data[\"total_disruption\"],\n",
    "        \"avg_disruption\": data[\"total_disruption\"] / data[\"total_actions\"] if data[\"total_actions\"] else 0\n",
    "    }\n",
    "    for p, data in player_totals.items()\n",
    "])\n",
    "\n"
   ]
  },
  {
   "cell_type": "code",
   "execution_count": 14,
   "id": "7c85aea2",
   "metadata": {},
   "outputs": [],
   "source": [
    "player_scores = player_scores[player_scores[\"total_actions\"] >= 50]"
   ]
  },
  {
   "cell_type": "code",
   "execution_count": 15,
   "id": "e41fa671",
   "metadata": {},
   "outputs": [
    {
     "data": {
      "text/html": [
       "<div>\n",
       "<style scoped>\n",
       "    .dataframe tbody tr th:only-of-type {\n",
       "        vertical-align: middle;\n",
       "    }\n",
       "\n",
       "    .dataframe tbody tr th {\n",
       "        vertical-align: top;\n",
       "    }\n",
       "\n",
       "    .dataframe thead th {\n",
       "        text-align: right;\n",
       "    }\n",
       "</style>\n",
       "<table border=\"1\" class=\"dataframe\">\n",
       "  <thead>\n",
       "    <tr style=\"text-align: right;\">\n",
       "      <th></th>\n",
       "      <th>player</th>\n",
       "      <th>team</th>\n",
       "      <th>total_actions</th>\n",
       "      <th>total_disruption</th>\n",
       "      <th>avg_disruption</th>\n",
       "    </tr>\n",
       "  </thead>\n",
       "  <tbody>\n",
       "    <tr>\n",
       "      <th>81</th>\n",
       "      <td>Sami Khedira</td>\n",
       "      <td>Germany</td>\n",
       "      <td>188</td>\n",
       "      <td>303</td>\n",
       "      <td>1.611702</td>\n",
       "    </tr>\n",
       "    <tr>\n",
       "      <th>157</th>\n",
       "      <td>Franco Armani</td>\n",
       "      <td>Argentina</td>\n",
       "      <td>69</td>\n",
       "      <td>100</td>\n",
       "      <td>1.449275</td>\n",
       "    </tr>\n",
       "    <tr>\n",
       "      <th>578</th>\n",
       "      <td>Amine Harit</td>\n",
       "      <td>Morocco</td>\n",
       "      <td>69</td>\n",
       "      <td>91</td>\n",
       "      <td>1.318841</td>\n",
       "    </tr>\n",
       "    <tr>\n",
       "      <th>556</th>\n",
       "      <td>Niklas Süle</td>\n",
       "      <td>Germany</td>\n",
       "      <td>163</td>\n",
       "      <td>209</td>\n",
       "      <td>1.282209</td>\n",
       "    </tr>\n",
       "    <tr>\n",
       "      <th>593</th>\n",
       "      <td>Oscar Fabián Murillo Murillo</td>\n",
       "      <td>Colombia</td>\n",
       "      <td>71</td>\n",
       "      <td>89</td>\n",
       "      <td>1.253521</td>\n",
       "    </tr>\n",
       "    <tr>\n",
       "      <th>165</th>\n",
       "      <td>Enzo Nicolás Pérez</td>\n",
       "      <td>Argentina</td>\n",
       "      <td>222</td>\n",
       "      <td>276</td>\n",
       "      <td>1.243243</td>\n",
       "    </tr>\n",
       "    <tr>\n",
       "      <th>161</th>\n",
       "      <td>Gabriel Iván Mercado</td>\n",
       "      <td>Argentina</td>\n",
       "      <td>334</td>\n",
       "      <td>402</td>\n",
       "      <td>1.203593</td>\n",
       "    </tr>\n",
       "    <tr>\n",
       "      <th>94</th>\n",
       "      <td>Mats Hummels</td>\n",
       "      <td>Germany</td>\n",
       "      <td>181</td>\n",
       "      <td>213</td>\n",
       "      <td>1.176796</td>\n",
       "    </tr>\n",
       "    <tr>\n",
       "      <th>585</th>\n",
       "      <td>Tin Jedvaj</td>\n",
       "      <td>Croatia</td>\n",
       "      <td>84</td>\n",
       "      <td>97</td>\n",
       "      <td>1.154762</td>\n",
       "    </tr>\n",
       "    <tr>\n",
       "      <th>447</th>\n",
       "      <td>Kenneth Josiah Omeruo</td>\n",
       "      <td>Nigeria</td>\n",
       "      <td>128</td>\n",
       "      <td>143</td>\n",
       "      <td>1.117188</td>\n",
       "    </tr>\n",
       "  </tbody>\n",
       "</table>\n",
       "</div>"
      ],
      "text/plain": [
       "                           player       team  total_actions  total_disruption  \\\n",
       "81                   Sami Khedira    Germany            188               303   \n",
       "157                 Franco Armani  Argentina             69               100   \n",
       "578                   Amine Harit    Morocco             69                91   \n",
       "556                   Niklas Süle    Germany            163               209   \n",
       "593  Oscar Fabián Murillo Murillo   Colombia             71                89   \n",
       "165            Enzo Nicolás Pérez  Argentina            222               276   \n",
       "161          Gabriel Iván Mercado  Argentina            334               402   \n",
       "94                   Mats Hummels    Germany            181               213   \n",
       "585                    Tin Jedvaj    Croatia             84                97   \n",
       "447         Kenneth Josiah Omeruo    Nigeria            128               143   \n",
       "\n",
       "     avg_disruption  \n",
       "81         1.611702  \n",
       "157        1.449275  \n",
       "578        1.318841  \n",
       "556        1.282209  \n",
       "593        1.253521  \n",
       "165        1.243243  \n",
       "161        1.203593  \n",
       "94         1.176796  \n",
       "585        1.154762  \n",
       "447        1.117188  "
      ]
     },
     "execution_count": 15,
     "metadata": {},
     "output_type": "execute_result"
    }
   ],
   "source": [
    "player_scores.sort_values(\"avg_disruption\", ascending=False).head(10)"
   ]
  },
  {
   "cell_type": "code",
   "execution_count": 16,
   "id": "b3ddea71",
   "metadata": {},
   "outputs": [
    {
     "data": {
      "image/png": "[encoded data removed]",
      "text/plain": [
       "<Figure size 1000x600 with 1 Axes>"
      ]
     },
     "metadata": {},
     "output_type": "display_data"
    }
   ],
   "source": [
    "top10 = player_scores.sort_values(\"avg_disruption\", ascending=False).head(10)\n",
    "top10.plot.barh(x=\"player\", y=\"avg_disruption\", legend=False, figsize=(10, 6), color=\"skyblue\")\n",
    "plt.xlabel(\"Average Disruption Score\")\n",
    "plt.title(\"Top 10 Most Disruptive Players – 2018 FIFA World Cup\")\n",
    "plt.gca().invert_yaxis()\n",
    "plt.tight_layout()\n",
    "plt.show()\n"
   ]
  },
  {
   "cell_type": "markdown",
   "id": "c37d7189",
   "metadata": {},
   "source": [
    "Interestingly, this list is dominated by defensive midfielders and center backs — players like Sami Khedira, Niklas Süle, and Mats Hummels.\n",
    "These players often operate in high-pressure zones, attract early pressure, and have high pass volumes.\n",
    "While they aren’t flashy attackers, they consistently trigger reactions that break an opponent’s shape — which is exactly what our metric is trying to capture."
   ]
  },
  {
   "cell_type": "markdown",
   "id": "5e131dab",
   "metadata": {},
   "source": [
    "This also shows that disruption isn’t just about creative players — it’s about tactical roles.\n",
    "Khedira and Mercado were often targeted by pressing teams, and the way they managed or absorbed that pressure helped dictate the flow of play."
   ]
  },
  {
   "cell_type": "markdown",
   "id": "7e673d52",
   "metadata": {},
   "source": []
  }
 ],
 "metadata": {
  "kernelspec": {
   "display_name": "Python (my_python_env)",
   "language": "python",
   "name": "my_python_env"
  },
  "language_info": {
   "codemirror_mode": {
    "name": "ipython",
    "version": 3
   },
   "file_extension": ".py",
   "mimetype": "text/x-python",
   "name": "python",
   "nbconvert_exporter": "python",
   "pygments_lexer": "ipython3",
   "version": "3.13.3"
  }
 },
 "nbformat": 4,
 "nbformat_minor": 5
}
